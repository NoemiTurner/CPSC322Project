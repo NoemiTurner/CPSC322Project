{
 "cells": [
  {
   "cell_type": "markdown",
   "metadata": {},
   "source": [
    "Noemi Turner, Adrian Abeyta\n",
    "\n",
    "1.1 The dataset is from Kaggle and was downloaded as 1 excel file. The dataset contains names, nationalities, current rank, previous rank, sport, etc. We will use sport, previous year rankings, nationality, and current rank to make our prediction.\n",
    "https://www.kaggle.com/datasets/parulpandey/forbes-highest-paid-athletes-19902019 \n",
    "\n",
    "\n",
    "3.1 We anticipate that making sure the data is accurate could be a challenge. Another small challenge will be organizing the data in a way that makes it useful for our classification. \n",
    "3.2 The dataset has 300 attributes so it is not large relative to other datasets.\n",
    "\n",
    "\n",
    "4.1 These results are useful because predicting the highest paying athletes can give us insights into which professional sports pay the best and have the most successful people. \n",
    "\n",
    "4.2 Stakeholders who would be interested in these results are sports agents, sports teams, college athletes, professional athletes, team investors, and companies that sponsor athletes.\n"
   ]
  }
 ],
 "metadata": {
  "language_info": {
   "name": "python"
  },
  "orig_nbformat": 4
 },
 "nbformat": 4,
 "nbformat_minor": 2
}
