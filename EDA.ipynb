{
 "cells": [
  {
   "cell_type": "markdown",
   "metadata": {},
   "source": [
    "## By Adrian Abeyta and Noemi Turner"
   ]
  },
  {
   "cell_type": "code",
   "execution_count": 255,
   "metadata": {},
   "outputs": [],
   "source": [
    "import importlib\n",
    "import numpy as np\n",
    "\n",
    "import utils\n",
    "importlib.reload(utils)\n",
    "import plot_utils as pu\n",
    "importlib.reload(pu)\n",
    "from mysklearn import myutils\n",
    "importlib.reload(myutils)\n",
    "from mypytable import MyPyTable\n",
    "import mysklearn.myclassifiers\n",
    "importlib.reload(mysklearn.myclassifiers)\n",
    "from mysklearn.myclassifiers import MyKNeighborsClassifier, MyDummyClassifier, MyNaiveBayesClassifier\n",
    "\n",
    "import mysklearn.myevaluation\n",
    "importlib.reload(mysklearn.myevaluation)\n",
    "import mysklearn.myevaluation as myevaluation"
   ]
  },
  {
   "cell_type": "code",
   "execution_count": 195,
   "metadata": {},
   "outputs": [
    {
     "data": {
      "text/plain": [
       "<mypytable.MyPyTable at 0x7f7908756460>"
      ]
     },
     "execution_count": 195,
     "metadata": {},
     "output_type": "execute_result"
    }
   ],
   "source": [
    "data = MyPyTable()\n",
    "data.load_from_file(\"input_data/forbes_data.csv\")"
   ]
  },
  {
   "cell_type": "markdown",
   "metadata": {},
   "source": [
    "# Clean Data"
   ]
  },
  {
   "cell_type": "code",
   "execution_count": 196,
   "metadata": {},
   "outputs": [],
   "source": [
    "num_rows, num_cols = data.get_shape()\n",
    "data.convert_to_numeric()\n",
    "y_data = utils.discritize_data_by_million(data)\n"
   ]
  },
  {
   "cell_type": "markdown",
   "metadata": {},
   "source": [
    "# KNN Classifier"
   ]
  },
  {
   "cell_type": "code",
   "execution_count": 257,
   "metadata": {},
   "outputs": [
    {
     "name": "stdout",
     "output_type": "stream",
     "text": [
      "[[0.0, 0.0, 0.0, 0.0, 0.0, 0.0, 0.0, 0.0, 0.0, 0.0], [0.0, 0.0, 0.0, 0.0, 0.0, 0.0, 0.0, 0.0, 0.0, 0.0], [0.0, 0.0, 1.0, 1.0, 2.0, 2.0, 2.0, 2.0, 2.0, 2.0], [0.0, 0.0, 0.0, 0.0, 0.0, 0.0, 0.0, 0.0, 0.0, 0.0], [0.0, 0.0, 0.0, 0.0, 0.0, 0.0, 0.0, 0.0, 0.0, 0.0], [0.0, 1.4142135623730951, 1.4142135623730951, 1.4142135623730951, 1.4142135623730951, 1.4142135623730951, 1.4142135623730951, 1.4142135623730951, 1.4142135623730951, 1.4142135623730951], [0.0, 2.0, 2.0, 3.0, 3.0, 4.123105625617661, 4.47213595499958, 4.47213595499958, 5.0990195135927845, 5.385164807134504], [0.0, 0.0, 0.0, 0.0, 0.0, 0.0, 0.0, 0.0, 0.0, 0.0], [0.0, 0.0, 0.0, 0.0, 0.0, 0.0, 0.0, 0.0, 0.0, 0.0], [0.0, 0.0, 0.0, 0.0, 0.0, 0.0, 0.0, 0.0, 0.0, 0.0], [0.0, 0.0, 0.0, 0.0, 0.0, 0.0, 0.0, 0.0, 0.0, 0.0], [0.0, 0.0, 0.0, 0.0, 0.0, 0.0, 0.0, 0.0, 0.0, 0.0], [0.0, 0.0, 0.0, 0.0, 0.0, 0.0, 0.0, 0.0, 0.0, 0.0], [0.0, 0.0, 0.0, 0.0, 0.0, 0.0, 0.0, 0.0, 0.0, 0.0], [0.0, 0.0, 0.0, 0.0, 0.0, 0.0, 0.0, 0.0, 0.0, 0.0], [0.0, 0.0, 0.0, 0.0, 0.0, 0.0, 0.0, 0.0, 0.0, 0.0], [0.0, 0.0, 0.0, 0.0, 0.0, 0.0, 0.0, 0.0, 0.0, 0.0], [0.0, 3.0, 3.605551275463989, 5.0990195135927845, 8.06225774829855, 8.06225774829855, 8.06225774829855, 8.06225774829855, 9.0, 9.0], [0.0, 0.0, 0.0, 0.0, 0.0, 0.0, 0.0, 0.0, 0.0, 0.0], [0.0, 0.0, 0.0, 0.0, 0.0, 0.0, 0.0, 0.0, 0.0, 0.0], [0.0, 0.0, 3.0, 3.605551275463989, 3.605551275463989, 5.656854249492381, 6.4031242374328485, 7.211102550927978, 7.280109889280518, 7.280109889280518], [0.0, 0.0, 1.0, 1.0, 1.0, 1.0, 1.0, 1.0, 1.0, 1.0], [0.0, 0.0, 0.0, 0.0, 0.0, 0.0, 0.0, 0.0, 1.0, 1.0], [0.0, 0.0, 0.0, 0.0, 0.0, 0.0, 0.0, 0.0, 0.0, 0.0], [0.0, 0.0, 0.0, 0.0, 0.0, 0.0, 2.23606797749979, 4.123105625617661, 4.123105625617661, 4.123105625617661], [0.0, 1.0, 1.0, 1.0, 1.0, 1.0, 1.0, 1.0, 1.0, 1.0], [2.23606797749979, 3.0, 3.1622776601683795, 4.47213595499958, 7.0710678118654755, 7.0710678118654755, 7.0710678118654755, 7.0710678118654755, 7.0710678118654755, 7.0710678118654755], [0.0, 0.0, 0.0, 0.0, 0.0, 0.0, 0.0, 0.0, 0.0, 0.0], [0.0, 0.0, 0.0, 0.0, 0.0, 0.0, 1.4142135623730951, 1.4142135623730951, 2.0, 2.0], [2.0, 2.23606797749979, 5.0990195135927845, 5.385164807134504, 6.082762530298219, 6.324555320336759, 6.324555320336759, 9.486832980505138, 9.899494936611665, 10.0], [0.0, 0.0, 0.0, 0.0, 0.0, 0.0, 0.0, 0.0, 0.0, 0.0], [0.0, 0.0, 0.0, 0.0, 0.0, 0.0, 0.0, 0.0, 0.0, 0.0], [0.0, 0.0, 0.0, 0.0, 0.0, 0.0, 0.0, 0.0, 0.0, 0.0], [0.0, 0.0, 0.0, 0.0, 0.0, 0.0, 0.0, 0.0, 1.0, 1.0], [0.0, 0.0, 1.0, 1.0, 1.4142135623730951, 2.0, 2.0, 2.0, 2.0, 2.0], [0.0, 5.0, 5.0, 5.0, 5.0, 5.0990195135927845, 5.830951894845301, 5.830951894845301, 6.082762530298219, 6.082762530298219], [0.0, 0.0, 0.0, 0.0, 0.0, 0.0, 0.0, 0.0, 0.0, 0.0], [0.0, 1.0, 4.0, 5.0, 5.0, 7.0, 8.0, 9.433981132056603, 10.816653826391969, 10.816653826391969], [0.0, 0.0, 0.0, 0.0, 0.0, 0.0, 0.0, 0.0, 0.0, 0.0], [0.0, 0.0, 0.0, 0.0, 1.4142135623730951, 1.4142135623730951, 1.4142135623730951, 1.4142135623730951, 1.4142135623730951, 3.1622776601683795], [0.0, 0.0, 0.0, 0.0, 0.0, 0.0, 0.0, 0.0, 0.0, 0.0], [0.0, 0.0, 0.0, 0.0, 0.0, 0.0, 0.0, 0.0, 0.0, 0.0], [0.0, 0.0, 0.0, 0.0, 0.0, 0.0, 0.0, 0.0, 0.0, 0.0], [0.0, 0.0, 0.0, 0.0, 0.0, 0.0, 1.4142135623730951, 1.4142135623730951, 2.0, 2.0], [0.0, 0.0, 0.0, 0.0, 0.0, 0.0, 0.0, 0.0, 0.0, 0.0], [0.0, 0.0, 0.0, 0.0, 0.0, 0.0, 0.0, 0.0, 0.0, 0.0], [0.0, 2.0, 2.0, 3.0, 3.0, 4.123105625617661, 4.47213595499958, 4.47213595499958, 5.0990195135927845, 5.385164807134504], [0.0, 0.0, 0.0, 0.0, 0.0, 0.0, 2.23606797749979, 4.123105625617661, 4.123105625617661, 4.123105625617661], [0.0, 0.0, 0.0, 0.0, 0.0, 0.0, 0.0, 0.0, 0.0, 0.0], [0.0, 0.0, 0.0, 0.0, 0.0, 0.0, 0.0, 0.0, 0.0, 0.0], [0.0, 0.0, 0.0, 0.0, 0.0, 0.0, 0.0, 0.0, 0.0, 0.0], [0.0, 0.0, 3.0, 3.605551275463989, 3.605551275463989, 5.656854249492381, 6.4031242374328485, 7.211102550927978, 7.280109889280518, 7.280109889280518], [0.0, 0.0, 0.0, 0.0, 0.0, 0.0, 0.0, 0.0, 0.0, 0.0], [0.0, 0.0, 0.0, 0.0, 0.0, 0.0, 0.0, 0.0, 0.0, 0.0], [0.0, 0.0, 0.0, 0.0, 0.0, 0.0, 1.4142135623730951, 1.4142135623730951, 2.0, 2.0], [0.0, 0.0, 0.0, 0.0, 0.0, 0.0, 0.0, 0.0, 0.0, 0.0], [2.23606797749979, 2.8284271247461903, 2.8284271247461903, 2.8284271247461903, 2.8284271247461903, 3.605551275463989, 3.605551275463989, 4.123105625617661, 4.47213595499958, 4.47213595499958], [0.0, 0.0, 0.0, 0.0, 0.0, 0.0, 1.4142135623730951, 1.4142135623730951, 2.0, 2.0], [0.0, 0.0, 0.0, 0.0, 0.0, 0.0, 0.0, 0.0, 0.0, 0.0], [0.0, 0.0, 0.0, 0.0, 0.0, 0.0, 0.0, 0.0, 0.0, 0.0], [0.0, 0.0, 0.0, 0.0, 0.0, 0.0, 0.0, 0.0, 0.0, 0.0], [1.0, 1.0, 1.0, 1.0, 1.0, 1.0, 1.0, 2.23606797749979, 2.23606797749979, 3.0], [0.0, 0.0, 0.0, 0.0, 1.4142135623730951, 1.4142135623730951, 1.4142135623730951, 1.4142135623730951, 1.4142135623730951, 3.1622776601683795], [0.0, 0.0, 0.0, 0.0, 0.0, 0.0, 0.0, 0.0, 1.0, 1.0], [0.0, 0.0, 0.0, 0.0, 0.0, 0.0, 0.0, 0.0, 0.0, 0.0], [0.0, 0.0, 0.0, 0.0, 0.0, 0.0, 0.0, 0.0, 0.0, 0.0], [0.0, 0.0, 0.0, 0.0, 0.0, 0.0, 0.0, 0.0, 0.0, 0.0], [0.0, 0.0, 0.0, 0.0, 0.0, 0.0, 0.0, 0.0, 0.0, 0.0], [0.0, 0.0, 0.0, 0.0, 0.0, 0.0, 0.0, 0.0, 0.0, 0.0], [3.605551275463989, 3.605551275463989, 4.123105625617661, 4.123105625617661, 4.123105625617661, 4.123105625617661, 4.123105625617661, 4.123105625617661, 5.0, 5.0990195135927845], [0.0, 0.0, 1.0, 1.0, 2.23606797749979, 3.0, 3.0, 3.0, 3.0, 3.0], [0.0, 0.0, 0.0, 0.0, 0.0, 0.0, 0.0, 0.0, 0.0, 0.0], [0.0, 0.0, 0.0, 0.0, 0.0, 0.0, 0.0, 0.0, 1.0, 1.0], [0.0, 0.0, 0.0, 0.0, 0.0, 0.0, 0.0, 0.0, 0.0, 0.0], [2.8284271247461903, 3.605551275463989, 5.385164807134504, 5.385164807134504, 5.656854249492381, 5.830951894845301, 5.830951894845301, 5.830951894845301, 6.0, 7.0710678118654755], [0.0, 0.0, 0.0, 0.0, 0.0, 0.0, 0.0, 0.0, 1.0, 1.0], [0.0, 0.0, 3.0, 3.605551275463989, 3.605551275463989, 5.656854249492381, 6.4031242374328485, 7.211102550927978, 7.280109889280518, 7.280109889280518], [0.0, 0.0, 0.0, 0.0, 0.0, 0.0, 0.0, 0.0, 0.0, 0.0], [1.0, 2.0, 6.0, 7.0, 7.0, 7.280109889280518, 8.246211251235321, 11.180339887498949, 12.041594578792296, 12.041594578792296], [0.0, 0.0, 0.0, 0.0, 0.0, 0.0, 0.0, 0.0, 1.0, 1.0], [0.0, 0.0, 0.0, 0.0, 0.0, 0.0, 0.0, 0.0, 1.0, 1.0], [0.0, 0.0, 0.0, 0.0, 0.0, 0.0, 0.0, 0.0, 0.0, 0.0], [0.0, 0.0, 0.0, 0.0, 0.0, 0.0, 0.0, 0.0, 0.0, 0.0], [0.0, 0.0, 0.0, 0.0, 0.0, 0.0, 0.0, 0.0, 0.0, 0.0], [0.0, 0.0, 3.0, 3.605551275463989, 3.605551275463989, 5.656854249492381, 6.4031242374328485, 7.211102550927978, 7.280109889280518, 7.280109889280518], [0.0, 0.0, 0.0, 0.0, 0.0, 0.0, 0.0, 0.0, 0.0, 0.0], [0.0, 0.0, 0.0, 0.0, 0.0, 0.0, 0.0, 0.0, 0.0, 0.0], [0.0, 0.0, 3.0, 3.605551275463989, 3.605551275463989, 5.656854249492381, 6.4031242374328485, 7.211102550927978, 7.280109889280518, 7.280109889280518], [0.0, 0.0, 0.0, 0.0, 0.0, 0.0, 0.0, 0.0, 0.0, 0.0], [0.0, 0.0, 0.0, 0.0, 0.0, 0.0, 0.0, 0.0, 0.0, 0.0], [0.0, 0.0, 0.0, 0.0, 0.0, 0.0, 0.0, 0.0, 0.0, 0.0], [0.0, 1.4142135623730951, 1.4142135623730951, 1.4142135623730951, 1.4142135623730951, 1.4142135623730951, 1.4142135623730951, 1.4142135623730951, 1.4142135623730951, 1.4142135623730951], [0.0, 0.0, 0.0, 0.0, 0.0, 0.0, 0.0, 0.0, 1.0, 1.0], [0.0, 0.0, 0.0, 0.0, 1.4142135623730951, 1.4142135623730951, 1.4142135623730951, 1.4142135623730951, 1.4142135623730951, 3.1622776601683795], [0.0, 0.0, 0.0, 0.0, 0.0, 0.0, 2.23606797749979, 4.123105625617661, 4.123105625617661, 4.123105625617661], [0.0, 1.0, 1.4142135623730951, 1.4142135623730951, 1.4142135623730951, 1.4142135623730951, 1.4142135623730951, 1.4142135623730951, 1.4142135623730951, 1.4142135623730951], [0.0, 0.0, 0.0, 0.0, 0.0, 0.0, 0.0, 0.0, 0.0, 0.0], [0.0, 0.0, 0.0, 0.0, 0.0, 0.0, 0.0, 0.0, 0.0, 0.0], [0.0, 0.0, 3.0, 3.605551275463989, 3.605551275463989, 5.656854249492381, 6.4031242374328485, 7.211102550927978, 7.280109889280518, 7.280109889280518], [0.0, 0.0, 0.0, 0.0, 0.0, 0.0, 0.0, 0.0, 0.0, 0.0]] []\n",
      "0\n"
     ]
    },
    {
     "ename": "IndexError",
     "evalue": "list index out of range",
     "output_type": "error",
     "traceback": [
      "\u001b[0;31m---------------------------------------------------------------------------\u001b[0m",
      "\u001b[0;31mIndexError\u001b[0m                                Traceback (most recent call last)",
      "\u001b[0;32m/tmp/ipykernel_4400/3947593520.py\u001b[0m in \u001b[0;36m<module>\u001b[0;34m\u001b[0m\n\u001b[1;32m     18\u001b[0m \u001b[0mknn_X_train\u001b[0m\u001b[0;34m,\u001b[0m \u001b[0mknn_X_test\u001b[0m\u001b[0;34m,\u001b[0m \u001b[0mknn_y_train\u001b[0m\u001b[0;34m,\u001b[0m \u001b[0mknn_y_true\u001b[0m \u001b[0;34m=\u001b[0m \u001b[0mmyevaluation\u001b[0m\u001b[0;34m.\u001b[0m\u001b[0mtrain_test_split\u001b[0m\u001b[0;34m(\u001b[0m\u001b[0mknn_combined_data\u001b[0m\u001b[0;34m,\u001b[0m \u001b[0my_data\u001b[0m\u001b[0;34m)\u001b[0m\u001b[0;34m\u001b[0m\u001b[0;34m\u001b[0m\u001b[0m\n\u001b[1;32m     19\u001b[0m \u001b[0mknn\u001b[0m\u001b[0;34m.\u001b[0m\u001b[0mfit\u001b[0m\u001b[0;34m(\u001b[0m\u001b[0mknn_X_train\u001b[0m\u001b[0;34m,\u001b[0m \u001b[0mknn_y_train\u001b[0m\u001b[0;34m)\u001b[0m\u001b[0;34m\u001b[0m\u001b[0;34m\u001b[0m\u001b[0m\n\u001b[0;32m---> 20\u001b[0;31m \u001b[0mknn_y_pred\u001b[0m \u001b[0;34m=\u001b[0m \u001b[0mknn\u001b[0m\u001b[0;34m.\u001b[0m\u001b[0mpredict\u001b[0m\u001b[0;34m(\u001b[0m\u001b[0mknn_X_test\u001b[0m\u001b[0;34m)\u001b[0m\u001b[0;34m\u001b[0m\u001b[0;34m\u001b[0m\u001b[0m\n\u001b[0m",
      "\u001b[0;32m/home/CPSC322Project/mysklearn/myclassifiers.py\u001b[0m in \u001b[0;36mpredict\u001b[0;34m(self, X_test)\u001b[0m\n\u001b[1;32m    150\u001b[0m         \u001b[0mprint\u001b[0m\u001b[0;34m(\u001b[0m\u001b[0mlen\u001b[0m\u001b[0;34m(\u001b[0m\u001b[0mknn_indexes\u001b[0m\u001b[0;34m)\u001b[0m\u001b[0;34m)\u001b[0m\u001b[0;34m\u001b[0m\u001b[0;34m\u001b[0m\u001b[0m\n\u001b[1;32m    151\u001b[0m         \u001b[0;32mfor\u001b[0m \u001b[0mi\u001b[0m\u001b[0;34m,\u001b[0m \u001b[0mtest_instance\u001b[0m \u001b[0;32min\u001b[0m \u001b[0menumerate\u001b[0m\u001b[0;34m(\u001b[0m\u001b[0mX_test\u001b[0m\u001b[0;34m)\u001b[0m\u001b[0;34m:\u001b[0m\u001b[0;34m\u001b[0m\u001b[0;34m\u001b[0m\u001b[0m\n\u001b[0;32m--> 152\u001b[0;31m             \u001b[0;32mfor\u001b[0m \u001b[0mindex\u001b[0m \u001b[0;32min\u001b[0m \u001b[0mknn_indexes\u001b[0m\u001b[0;34m[\u001b[0m\u001b[0mi\u001b[0m\u001b[0;34m]\u001b[0m\u001b[0;34m:\u001b[0m\u001b[0;34m\u001b[0m\u001b[0;34m\u001b[0m\u001b[0m\n\u001b[0m\u001b[1;32m    153\u001b[0m                 \u001b[0mneighbor_votes\u001b[0m\u001b[0;34m.\u001b[0m\u001b[0mappend\u001b[0m\u001b[0;34m(\u001b[0m\u001b[0mself\u001b[0m\u001b[0;34m.\u001b[0m\u001b[0my_train\u001b[0m\u001b[0;34m[\u001b[0m\u001b[0mindex\u001b[0m\u001b[0;34m]\u001b[0m\u001b[0;34m)\u001b[0m\u001b[0;34m\u001b[0m\u001b[0;34m\u001b[0m\u001b[0m\n\u001b[1;32m    154\u001b[0m             \u001b[0mnvalues\u001b[0m\u001b[0;34m,\u001b[0m \u001b[0mnfreqs\u001b[0m \u001b[0;34m=\u001b[0m \u001b[0mmyutils\u001b[0m\u001b[0;34m.\u001b[0m\u001b[0mget_frequencies\u001b[0m\u001b[0;34m(\u001b[0m\u001b[0mneighbor_votes\u001b[0m\u001b[0;34m,\u001b[0m\u001b[0;34m[\u001b[0m\u001b[0;34m\"this\"\u001b[0m\u001b[0;34m]\u001b[0m\u001b[0;34m,\u001b[0m\u001b[0;34m\"this\"\u001b[0m\u001b[0;34m)\u001b[0m\u001b[0;34m\u001b[0m\u001b[0;34m\u001b[0m\u001b[0m\n",
      "\u001b[0;31mIndexError\u001b[0m: list index out of range"
     ]
    }
   ],
   "source": [
    "knn = MyKNeighborsClassifier(n_neighbors=10)\n",
    "knn_combined_data = []\n",
    "sport = utils.get_column(data.data, data.column_names, \"Sport\")\n",
    "sport_values, sport_counts = utils.get_frequencies(data.data, data.column_names, \"Sport\")\n",
    "country = utils.get_column(data.data, data.column_names, \"Nationality\")\n",
    "country_values, country_counts = utils.get_frequencies(data.data, data.column_names, \"Nationality\")\n",
    "# transform the sports and nationalities to numbers\n",
    "for index, value in enumerate(sport_values):\n",
    "    for row in range(len(sport)):\n",
    "        if sport[row] == value:\n",
    "            sport[row] = index + 1\n",
    "for index, single_country in enumerate(country_values):\n",
    "    for row in range(len(country)):\n",
    "        if country[row] == single_country:\n",
    "            country[row] = index + 1\n",
    "for i in range(len(sport)):\n",
    "    knn_combined_data.append([country[i], sport[i]])\n",
    "knn_X_train, knn_X_test, knn_y_train, knn_y_true = myevaluation.train_test_split(knn_combined_data, y_data)\n",
    "knn.fit(knn_X_train, knn_y_train)\n",
    "knn_y_pred = knn.predict(knn_X_test)"
   ]
  },
  {
   "cell_type": "markdown",
   "metadata": {},
   "source": [
    "## KNN Statistics"
   ]
  },
  {
   "cell_type": "code",
   "execution_count": 246,
   "metadata": {},
   "outputs": [
    {
     "ename": "NameError",
     "evalue": "name 'knn_y_pred' is not defined",
     "output_type": "error",
     "traceback": [
      "\u001b[0;31m---------------------------------------------------------------------------\u001b[0m",
      "\u001b[0;31mNameError\u001b[0m                                 Traceback (most recent call last)",
      "\u001b[0;32m/tmp/ipykernel_4400/1593895506.py\u001b[0m in \u001b[0;36m<module>\u001b[0;34m\u001b[0m\n\u001b[0;32m----> 1\u001b[0;31m \u001b[0maccuracy\u001b[0m \u001b[0;34m=\u001b[0m \u001b[0mmyevaluation\u001b[0m\u001b[0;34m.\u001b[0m\u001b[0maccuracy_score\u001b[0m\u001b[0;34m(\u001b[0m\u001b[0my_true\u001b[0m\u001b[0;34m,\u001b[0m \u001b[0mknn_y_pred\u001b[0m\u001b[0;34m)\u001b[0m\u001b[0;34m\u001b[0m\u001b[0;34m\u001b[0m\u001b[0m\n\u001b[0m\u001b[1;32m      2\u001b[0m \u001b[0mbps\u001b[0m \u001b[0;34m=\u001b[0m \u001b[0mmyevaluation\u001b[0m\u001b[0;34m.\u001b[0m\u001b[0mbinary_precision_score\u001b[0m\u001b[0;34m(\u001b[0m\u001b[0my_true\u001b[0m\u001b[0;34m,\u001b[0m \u001b[0mknn_y_pred\u001b[0m\u001b[0;34m)\u001b[0m\u001b[0;34m\u001b[0m\u001b[0;34m\u001b[0m\u001b[0m\n\u001b[1;32m      3\u001b[0m \u001b[0mbrs\u001b[0m \u001b[0;34m=\u001b[0m \u001b[0mmyevaluation\u001b[0m\u001b[0;34m.\u001b[0m\u001b[0mbinary_recall_score\u001b[0m\u001b[0;34m(\u001b[0m\u001b[0my_true\u001b[0m\u001b[0;34m,\u001b[0m \u001b[0mknn_y_pred\u001b[0m\u001b[0;34m)\u001b[0m\u001b[0;34m\u001b[0m\u001b[0;34m\u001b[0m\u001b[0m\n\u001b[1;32m      4\u001b[0m \u001b[0mprint\u001b[0m\u001b[0;34m(\u001b[0m\u001b[0;34m\"Accuracy:\"\u001b[0m\u001b[0;34m,\u001b[0m \u001b[0maccuracy\u001b[0m\u001b[0;34m)\u001b[0m\u001b[0;34m\u001b[0m\u001b[0;34m\u001b[0m\u001b[0m\n\u001b[1;32m      5\u001b[0m \u001b[0mprint\u001b[0m\u001b[0;34m(\u001b[0m\u001b[0;34m\"Error Rate\"\u001b[0m\u001b[0;34m,\u001b[0m \u001b[0;36m1\u001b[0m \u001b[0;34m-\u001b[0m \u001b[0maccuracy\u001b[0m\u001b[0;34m)\u001b[0m\u001b[0;34m\u001b[0m\u001b[0;34m\u001b[0m\u001b[0m\n",
      "\u001b[0;31mNameError\u001b[0m: name 'knn_y_pred' is not defined"
     ]
    }
   ],
   "source": [
    "accuracy = myevaluation.accuracy_score(y_true, knn_y_pred)\n",
    "bps = myevaluation.binary_precision_score(y_true, knn_y_pred)\n",
    "brs = myevaluation.binary_recall_score(y_true, knn_y_pred)\n",
    "print(\"Accuracy:\", accuracy)\n",
    "print(\"Error Rate\", 1 - accuracy)\n",
    "print(\"Binary Precision Score:\", bps)\n",
    "print(\"Binary Recall Score:\", brs)"
   ]
  },
  {
   "cell_type": "markdown",
   "metadata": {},
   "source": [
    "# Split Data"
   ]
  },
  {
   "cell_type": "code",
   "execution_count": 221,
   "metadata": {},
   "outputs": [],
   "source": [
    "#col = utils.get_column(data.data, data.column_names, \"earnings_($ million)\")\n",
    "combined_data = []\n",
    "sport = utils.get_column(data.data, data.column_names, \"Sport\")\n",
    "country = utils.get_column(data.data, data.column_names, \"Nationality\")\n",
    "for i in range(len(sport)):\n",
    "    country[i] = country[i].lower()\n",
    "    sport[i] = sport[i].lower()\n",
    "    combined_data.append([country[i], sport[i]])\n",
    "X_train, X_test, y_train, y_true = myevaluation.train_test_split(combined_data, y_data)\n"
   ]
  },
  {
   "cell_type": "markdown",
   "metadata": {},
   "source": [
    "# Naive Bayes Classifier"
   ]
  },
  {
   "cell_type": "code",
   "execution_count": 229,
   "metadata": {},
   "outputs": [],
   "source": [
    "new_Xtrain = []\n",
    "new_Xtest = []\n",
    "for item in X_train:\n",
    "    new_Xtrain.append(item)\n",
    "for item in X_train:\n",
    "    new_Xtest.append(item)\n",
    "nbc = MyNaiveBayesClassifier()\n",
    "nbc.fit(new_Xtrain, y_train)\n",
    "nbc_y_pred = nbc.predict(new_Xtest)\n",
    "for y in range(len(y_pred)):\n",
    "    if nbc_y_pred[y] == 0:\n",
    "        nbc_y_pred[y] = \"low\"\n",
    "    if nbc_y_pred[y] == 1:\n",
    "        nbc_y_pred[y] = \"medium\"\n",
    "    if nbc_y_pred[y] == 2:\n",
    "        nbc_y_pred[y] = \"high\""
   ]
  },
  {
   "cell_type": "markdown",
   "metadata": {},
   "source": [
    "## Naive Bayes Classifier Statistics"
   ]
  },
  {
   "cell_type": "code",
   "execution_count": 232,
   "metadata": {},
   "outputs": [
    {
     "name": "stdout",
     "output_type": "stream",
     "text": [
      "Accuracy: 0.3\n",
      "Error Rate 0.7\n",
      "Binary Precision Score: 0.21875\n",
      "Binary Recall Score: 0.1346153846153846\n"
     ]
    }
   ],
   "source": [
    "accuracy = myevaluation.accuracy_score(y_true, nbc_y_pred)\n",
    "bps = myevaluation.binary_precision_score(y_true, nbc_y_pred)\n",
    "brs = myevaluation.binary_recall_score(y_true, nbc_y_pred)\n",
    "print(\"Accuracy:\", accuracy)\n",
    "print(\"Error Rate\", 1 - accuracy)\n",
    "print(\"Binary Precision Score:\", bps)\n",
    "print(\"Binary Recall Score:\", brs)"
   ]
  },
  {
   "cell_type": "markdown",
   "metadata": {},
   "source": [
    "# Dummy Classifier"
   ]
  },
  {
   "cell_type": "code",
   "execution_count": 234,
   "metadata": {},
   "outputs": [],
   "source": [
    "dc = MyDummyClassifier()\n",
    "dc.fit(X_train, y_train)\n",
    "dc_y_pred = dc.predict(X_test)"
   ]
  },
  {
   "cell_type": "markdown",
   "metadata": {},
   "source": [
    "## Dummy Classifier Statistics"
   ]
  },
  {
   "cell_type": "code",
   "execution_count": 235,
   "metadata": {},
   "outputs": [
    {
     "name": "stdout",
     "output_type": "stream",
     "text": [
      "Accuracy: 0.32\n",
      "Error Rate 0.6799999999999999\n",
      "Binary Precision Score: 0.32\n",
      "Binary Recall Score: 1.0\n"
     ]
    }
   ],
   "source": [
    "accuracy = myevaluation.accuracy_score(y_true, dc_y_pred)\n",
    "bps = myevaluation.binary_precision_score(y_true, dc_y_pred)\n",
    "brs = myevaluation.binary_recall_score(y_true, dc_y_pred)\n",
    "print(\"Accuracy:\", accuracy)\n",
    "print(\"Error Rate\", 1 - accuracy)\n",
    "print(\"Binary Precision Score:\", bps)\n",
    "print(\"Binary Recall Score:\", brs)\n"
   ]
  },
  {
   "cell_type": "markdown",
   "metadata": {},
   "source": [
    "# Map Data"
   ]
  },
  {
   "cell_type": "code",
   "execution_count": null,
   "metadata": {},
   "outputs": [
    {
     "data": {
      "image/png": "[encoded data removed]",
      "text/plain": [
       "<Figure size 792x288 with 1 Axes>"
      ]
     },
     "metadata": {
      "needs_background": "light"
     },
     "output_type": "display_data"
    }
   ],
   "source": [
    "data.remove_rows_with_missing_values()\n",
    "#print(table.data)\n",
    "sports = data.get_column(\"Sport\")\n",
    "money = data.get_column(\"earnings_($ million)\")\n",
    "for i in range(len(sports)):\n",
    "    sports[i] = sports[i].lower()\n",
    "sports_split = utils.split_string_count(sports)\n",
    "unique_sports = utils.get_genres(sports_split)\n",
    "total_scores = utils.divide_ratings(unique_sports, sports, money)\n",
    "for row in total_scores:\n",
    "    while('' in row):\n",
    "        row.remove('')\n",
    "pu.generate_box_plot(total_scores, unique_sports, \"Sports\", \"Money (in millions)\", \"Money per Sport\")"
   ]
  }
 ],
 "metadata": {
  "interpreter": {
   "hash": "31f2aee4e71d21fbe5cf8b01ff0e069b9275f58929596ceb00d14d90e3e16cd6"
  },
  "kernelspec": {
   "display_name": "Python 3.9.2 64-bit",
   "language": "python",
   "name": "python3"
  },
  "language_info": {
   "codemirror_mode": {
    "name": "ipython",
    "version": 3
   },
   "file_extension": ".py",
   "mimetype": "text/x-python",
   "name": "python",
   "nbconvert_exporter": "python",
   "pygments_lexer": "ipython3",
   "version": "3.9.7"
  },
  "orig_nbformat": 4
 },
 "nbformat": 4,
 "nbformat_minor": 2
}
