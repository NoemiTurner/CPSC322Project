{
 "cells": [
  {
   "cell_type": "markdown",
   "metadata": {},
   "source": [
    "## By Adrian Abeyta and Noemi Turner"
   ]
  },
  {
   "cell_type": "code",
   "execution_count": 1,
   "metadata": {},
   "outputs": [],
   "source": [
    "import importlib\n",
    "import numpy as np\n",
    "\n",
    "import utils\n",
    "importlib.reload(utils)\n",
    "import plot_utils as pu\n",
    "importlib.reload(pu)\n",
    "from mysklearn import myutils\n",
    "importlib.reload(myutils)\n",
    "from mypytable import MyPyTable\n",
    "import mysklearn.myclassifiers\n",
    "importlib.reload(mysklearn.myclassifiers)\n",
    "from mysklearn.myclassifiers import MyKNeighborsClassifier, MyDummyClassifier, MyNaiveBayesClassifier\n",
    "\n",
    "import mysklearn.myevaluation\n",
    "importlib.reload(mysklearn.myevaluation)\n",
    "import mysklearn.myevaluation as myevaluation"
   ]
  },
  {
   "cell_type": "code",
   "execution_count": 2,
   "metadata": {},
   "outputs": [
    {
     "data": {
      "text/plain": [
       "<mypytable.MyPyTable at 0x7f2b2c432e80>"
      ]
     },
     "execution_count": 2,
     "metadata": {},
     "output_type": "execute_result"
    }
   ],
   "source": [
    "data = MyPyTable()\n",
    "data.load_from_file(\"input_data/forbes_data.csv\")"
   ]
  },
  {
   "cell_type": "markdown",
   "metadata": {},
   "source": [
    "# Clean Data"
   ]
  },
  {
   "cell_type": "code",
   "execution_count": 3,
   "metadata": {},
   "outputs": [],
   "source": [
    "num_rows, num_cols = data.get_shape()\n",
    "data.convert_to_numeric()\n",
    "y_data = utils.discritize_data_by_million(data)\n"
   ]
  },
  {
   "cell_type": "markdown",
   "metadata": {},
   "source": [
    "# Split Data"
   ]
  },
  {
   "cell_type": "code",
   "execution_count": 4,
   "metadata": {},
   "outputs": [],
   "source": [
    "combined_data = []\n",
    "sport = utils.get_column(data.data, data.column_names, \"Sport\")\n",
    "country = utils.get_column(data.data, data.column_names, \"Nationality\")\n",
    "for i in range(len(sport)):\n",
    "    country[i] = country[i].lower()\n",
    "    sport[i] = sport[i].lower()\n",
    "    combined_data.append([country[i], sport[i]])\n",
    "X_train, X_test, y_train, y_true = myevaluation.train_test_split(combined_data, y_data)"
   ]
  },
  {
   "cell_type": "markdown",
   "metadata": {},
   "source": [
    "# KNN Classifier"
   ]
  },
  {
   "cell_type": "code",
   "execution_count": 5,
   "metadata": {},
   "outputs": [],
   "source": [
    "knn = MyKNeighborsClassifier(n_neighbors=10)\n",
    "knn_combined_data = []\n",
    "sport_values, sport_counts = utils.get_frequencies(data.data, data.column_names, \"Sport\")\n",
    "country_values, country_counts = utils.get_frequencies(data.data, data.column_names, \"Nationality\")\n",
    "# make all lower to stay consistent with other tags\n",
    "for i in range(len(sport_values)):\n",
    "    sport_values[i] = sport_values[i].lower()\n",
    "for i in range(len(country_values)):\n",
    "    country_values[i] = country_values[i].lower()\n",
    "knn_X_train = X_train.copy()\n",
    "knn_X_test = X_test.copy()\n",
    "# transform the sports and nationalities to numbers\n",
    "for index, value in enumerate(sport_values):\n",
    "    for row in range(len(knn_X_test)):\n",
    "        if knn_X_test[row][1] == value:\n",
    "            knn_X_test[row][1] = index + 1\n",
    "    for row in range(len(knn_X_train)):\n",
    "        if knn_X_train[row][1] == value:\n",
    "            knn_X_train[row][1] = index + 1\n",
    "for index, single_country in enumerate(country_values):\n",
    "    for row in range(len(knn_X_test)):\n",
    "        if knn_X_test[row][0] == single_country:\n",
    "            knn_X_test[row][0] = index + 1\n",
    "    for row in range(len(knn_X_train)):\n",
    "        if knn_X_train[row][0] == single_country:\n",
    "            knn_X_train[row][0] = index + 1\n",
    "knn.fit(knn_X_train, y_train)\n",
    "knn_y_pred = knn.predict(knn_X_test)"
   ]
  },
  {
   "cell_type": "markdown",
   "metadata": {},
   "source": [
    "# Naive Bayes Classifier"
   ]
  },
  {
   "cell_type": "code",
   "execution_count": 7,
   "metadata": {},
   "outputs": [],
   "source": [
    "new_Xtrain = []\n",
    "new_Xtest = []\n",
    "for item in X_train:\n",
    "    new_Xtrain.append(item)\n",
    "for item in X_train:\n",
    "    new_Xtest.append(item)\n",
    "nbc = MyNaiveBayesClassifier()\n",
    "nbc.fit(new_Xtrain, y_train)\n",
    "nbc_y_pred = nbc.predict(new_Xtest)\n",
    "for y in range(len(nbc_y_pred)):\n",
    "    if nbc_y_pred[y] == 0:\n",
    "        nbc_y_pred[y] = \"low\"\n",
    "    if nbc_y_pred[y] == 1:\n",
    "        nbc_y_pred[y] = \"medium\"\n",
    "    if nbc_y_pred[y] == 2:\n",
    "        nbc_y_pred[y] = \"high\""
   ]
  },
  {
   "cell_type": "markdown",
   "metadata": {},
   "source": [
    "# Dummy Classifier"
   ]
  },
  {
   "cell_type": "code",
   "execution_count": 8,
   "metadata": {},
   "outputs": [],
   "source": [
    "dc = MyDummyClassifier()\n",
    "dc.fit(X_train, y_train)\n",
    "dc_y_pred = dc.predict(X_test)"
   ]
  },
  {
   "cell_type": "markdown",
   "metadata": {},
   "source": [
    "# Map Data"
   ]
  },
  {
   "cell_type": "markdown",
   "metadata": {},
   "source": [
    "## Sport"
   ]
  },
  {
   "cell_type": "code",
   "execution_count": 9,
   "metadata": {},
   "outputs": [
    {
     "data": {
      "image/png": "[encoded data removed]",
      "text/plain": [
       "<Figure size 792x288 with 1 Axes>"
      ]
     },
     "metadata": {
      "needs_background": "light"
     },
     "output_type": "display_data"
    }
   ],
   "source": [
    "data.remove_rows_with_missing_values()\n",
    "sports = data.get_column(\"Sport\")\n",
    "money = data.get_column(\"earnings_($ million)\")\n",
    "for i in range(len(sports)):\n",
    "    sports[i] = sports[i].lower()\n",
    "sports_split = utils.split_string_count(sports)\n",
    "unique_sports = utils.get_genres(sports_split)\n",
    "total_scores = utils.divide_ratings(unique_sports, sports, money)\n",
    "for row in total_scores:\n",
    "    while('' in row):\n",
    "        row.remove('')\n",
    "pu.generate_box_plot(total_scores, unique_sports, \"Sports\", \"Money (in millions)\", \"Money per Sport\")"
   ]
  },
  {
   "cell_type": "markdown",
   "metadata": {},
   "source": [
    "## Nationality"
   ]
  },
  {
   "cell_type": "code",
   "execution_count": 10,
   "metadata": {},
   "outputs": [
    {
     "data": {
      "image/png": "[encoded data removed]",
      "text/plain": [
       "<Figure size 792x288 with 1 Axes>"
      ]
     },
     "metadata": {
      "needs_background": "light"
     },
     "output_type": "display_data"
    }
   ],
   "source": [
    "data.remove_rows_with_missing_values()\n",
    "nationality = data.get_column(\"Nationality\")\n",
    "money = data.get_column(\"earnings_($ million)\")\n",
    "for i in range(len(nationality)):\n",
    "    nationality[i] = nationality[i].lower()\n",
    "nationality_split = utils.split_string_count(nationality)\n",
    "unique_nationalities = utils.get_genres(nationality_split)\n",
    "total_scores = utils.divide_ratings(unique_nationalities, nationality, money)\n",
    "for row in total_scores:\n",
    "    while('' in row):\n",
    "        row.remove('')\n",
    "pu.generate_box_plot(total_scores, unique_nationalities, \"Nationalities\", \"Money (in millions)\", \"Money per Nationality\")"
   ]
  },
  {
   "cell_type": "markdown",
   "metadata": {},
   "source": [
    "## Dummy Statistics"
   ]
  },
  {
   "cell_type": "code",
   "execution_count": 11,
   "metadata": {},
   "outputs": [
    {
     "name": "stdout",
     "output_type": "stream",
     "text": [
      "Accuracy: 0.33\n",
      "Error Rate 0.6699999999999999\n",
      "Binary Precision Score: 0.0\n",
      "Binary Recall Score: 0.0\n"
     ]
    }
   ],
   "source": [
    "accuracy = myevaluation.accuracy_score(y_true, dc_y_pred)\n",
    "bps = myevaluation.binary_precision_score(y_true, dc_y_pred)\n",
    "brs = myevaluation.binary_recall_score(y_true, dc_y_pred)\n",
    "print(\"Accuracy:\", accuracy)\n",
    "print(\"Error Rate\", 1 - accuracy)\n",
    "print(\"Binary Precision Score:\", bps)\n",
    "print(\"Binary Recall Score:\", brs)"
   ]
  },
  {
   "cell_type": "markdown",
   "metadata": {},
   "source": [
    "## KNN Statistics"
   ]
  },
  {
   "cell_type": "code",
   "execution_count": 12,
   "metadata": {},
   "outputs": [
    {
     "name": "stdout",
     "output_type": "stream",
     "text": [
      "Accuracy: 0.23\n",
      "Error Rate 0.77\n",
      "Binary Precision Score: 0.30612244897959184\n",
      "Binary Recall Score: 0.25862068965517243\n"
     ]
    }
   ],
   "source": [
    "accuracy = myevaluation.accuracy_score(y_true, knn_y_pred)\n",
    "bps = myevaluation.binary_precision_score(y_true, knn_y_pred)\n",
    "brs = myevaluation.binary_recall_score(y_true, knn_y_pred)\n",
    "print(\"Accuracy:\", accuracy)\n",
    "print(\"Error Rate\", 1 - accuracy)\n",
    "print(\"Binary Precision Score:\", bps)\n",
    "print(\"Binary Recall Score:\", brs)"
   ]
  },
  {
   "cell_type": "markdown",
   "metadata": {},
   "source": [
    "## Naive Bayes Statistics"
   ]
  },
  {
   "cell_type": "code",
   "execution_count": 13,
   "metadata": {},
   "outputs": [
    {
     "name": "stdout",
     "output_type": "stream",
     "text": [
      "Accuracy: 0.35\n",
      "Error Rate 0.65\n",
      "Binary Precision Score: 0.36065573770491804\n",
      "Binary Recall Score: 0.4583333333333333\n"
     ]
    }
   ],
   "source": [
    "accuracy = myevaluation.accuracy_score(y_true, nbc_y_pred)\n",
    "bps = myevaluation.binary_precision_score(y_true, nbc_y_pred)\n",
    "brs = myevaluation.binary_recall_score(y_true, nbc_y_pred)\n",
    "print(\"Accuracy:\", accuracy)\n",
    "print(\"Error Rate\", 1 - accuracy)\n",
    "print(\"Binary Precision Score:\", bps)\n",
    "print(\"Binary Recall Score:\", brs)"
   ]
  }
 ],
 "metadata": {
  "interpreter": {
   "hash": "31f2aee4e71d21fbe5cf8b01ff0e069b9275f58929596ceb00d14d90e3e16cd6"
  },
  "kernelspec": {
   "display_name": "Python 3.9.2 64-bit",
   "language": "python",
   "name": "python3"
  },
  "language_info": {
   "codemirror_mode": {
    "name": "ipython",
    "version": 3
   },
   "file_extension": ".py",
   "mimetype": "text/x-python",
   "name": "python",
   "nbconvert_exporter": "python",
   "pygments_lexer": "ipython3",
   "version": "3.9.7"
  },
  "orig_nbformat": 4
 },
 "nbformat": 4,
 "nbformat_minor": 2
}
